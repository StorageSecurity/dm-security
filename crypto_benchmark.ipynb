{
 "cells": [
  {
   "cell_type": "code",
   "execution_count": 21,
   "id": "cf186b1c",
   "metadata": {},
   "outputs": [
    {
     "name": "stderr",
     "output_type": "stream",
     "text": [
      "IOPub data rate exceeded.\n",
      "The notebook server will temporarily stop sending output\n",
      "to the client in order to avoid crashing it.\n",
      "To change this limit, set the config variable\n",
      "`--NotebookApp.iopub_data_rate_limit`.\n",
      "\n",
      "Current values:\n",
      "NotebookApp.iopub_data_rate_limit=1000000.0 (bytes/sec)\n",
      "NotebookApp.rate_limit_window=3.0 (secs)\n",
      "\n"
     ]
    }
   ],
   "source": [
    "# encoding:utf-8\n",
    "import base64\n",
    "from Crypto.Cipher import AES\n",
    "from Crypto import Random\n",
    "\n",
    "str_to_bytes = lambda s: bytes(s, encoding=\"utf8\")\n",
    "bytes_to_str = lambda b: str(b, encoding=\"utf8\")\n",
    "\n",
    "    \n",
    "def encrypt(data, password):\n",
    "    bs = AES.block_size\n",
    "    iv = Random.new().read(bs)\n",
    "    cipher = AES.new(password, AES.MODE_CBC, iv)\n",
    "    data = cipher.encrypt(data)\n",
    "    data = iv + data\n",
    "    return (data)\n",
    " \n",
    "def decrypt(data, password):\n",
    "    bs = AES.block_size\n",
    "    if len(data) <= bs:\n",
    "        return (data)\n",
    "    iv = data[:bs]\n",
    "    cipher = AES.new(password, AES.MODE_CBC, iv)\n",
    "    data  = cipher.decrypt(data[bs:])\n",
    "    return (data)\n",
    " \n",
    "if __name__ == '__main__':\n",
    "    data = Random.get_random_bytes(1024*1024) # 1MB\n",
    "    password = Random.get_random_bytes(16)\n",
    "    encrypt_data = encrypt(data, password)\n",
    "    encrypt_data = base64.b64encode(encrypt_data)\n",
    "    print ('encrypt_data:', encrypt_data)\n",
    " \n",
    "    encrypt_data = base64.b64decode(encrypt_data)\n",
    "    decrypt_data = decrypt(encrypt_data, password)\n",
    "    print ('decrypt_data:', decrypt_data)"
   ]
  },
  {
   "cell_type": "code",
   "execution_count": null,
   "id": "e58953c3",
   "metadata": {},
   "outputs": [],
   "source": []
  }
 ],
 "metadata": {
  "kernelspec": {
   "display_name": "Python 3 (ipykernel)",
   "language": "python",
   "name": "python3"
  },
  "language_info": {
   "codemirror_mode": {
    "name": "ipython",
    "version": 3
   },
   "file_extension": ".py",
   "mimetype": "text/x-python",
   "name": "python",
   "nbconvert_exporter": "python",
   "pygments_lexer": "ipython3",
   "version": "3.9.12"
  }
 },
 "nbformat": 4,
 "nbformat_minor": 5
}

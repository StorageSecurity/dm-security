{
 "cells": [
  {
   "cell_type": "code",
   "execution_count": null,
   "metadata": {
    "pycharm": {
     "is_executing": true
    }
   },
   "outputs": [],
   "source": [
    "import pandas as pd\n",
    "from datetime import datetime,timedelta\n",
    "import matplotlib.pyplot as plt\n",
    "\n",
    "def load_data(csv_paths: str):\n",
    "    headers = ['Timestamp','Hostname','DiskNumber','Type','Offset','Size','ResponseTime']\n",
    "    frames = []\n",
    "    for csv_path in csv_paths:\n",
    "        df_part = pd.read_csv(csv_path, header=None, names=headers)\n",
    "        frames.append(df_part)\n",
    "    df = pd.concat(frames)\n",
    "    return df\n",
    "\n",
    "def filetime_to_datetime(ts):\n",
    "    if str(ts) == \"0\":\n",
    "        return \"\"\n",
    "    try:\n",
    "        dt = datetime(1601, 1, 1) + timedelta(microseconds=ts / 10)\n",
    "    except OverflowError:\n",
    "        return ts\n",
    "    return dt.timestamp()\n",
    "\n",
    "def process_data(df):\n",
    "    df = df.loc[:, ['Timestamp', 'Type', 'Offset', 'Size']]\n",
    "    df['Timestamp'] = df['Timestamp'].map(filetime_to_datetime)\n",
    "    df['Type'] = df['Type'].map({'Read': 0, 'Write': 1})\n",
    "    df['Offset'] = df['Offset'].map(lambda x: x >> 14)\n",
    "    return df\n",
    "\n",
    "def save_data(df, dst_path: str):\n",
    "    processed = df.loc[:, ['Type', 'Offset', 'Size']]\n",
    "    processed.to_csv(dst_path, index=False, header=False)\n",
    "    \n",
    "def plot_io_trace(df, save: bool, name: str):\n",
    "    plt.rcParams['figure.figsize'] = (128.0, 128.0) # 设置figure_size尺寸\n",
    "    plt.scatter(x=df['Timestamp'], y=df['Offset'], c=df['Type'], marker='.', cmap='coolwarm')\n",
    "    if save:\n",
    "        plt.savefig('./datasets/%s_scatter.jpg' % name)#保存图片\n",
    "    else:\n",
    "        plt.show()"
   ]
  },
  {
   "cell_type": "code",
   "execution_count": 2,
   "metadata": {},
   "outputs": [],
   "source": [
    "datasets = {\n",
    "    'hm': 2, 'mds': 2, 'prn': 2, 'proj': 5, 'prxy': 2, 'rsrch': 3,\n",
    "    'src1': 3, 'src2': 3, 'stg': 2, 'ts': 1, 'usr': 3, 'wdev': 4, 'web': 4,\n",
    "}\n",
    "tasks = []\n",
    "for k, v in datasets.items():\n",
    "    srcs = []\n",
    "    for i in range(v):\n",
    "        srcs.append('./datasets/MSR-Cambridge/%s_%d.csv' % (k, i))\n",
    "    tasks.append([srcs, './datasets/%s_processed.csv' % k])"
   ]
  },
  {
   "cell_type": "code",
   "execution_count": null,
   "metadata": {},
   "outputs": [],
   "source": [
    "for k, v in datasets.items():\n",
    "    srcs = []\n",
    "    for i in range(v):\n",
    "        srcs.append('./datasets/MSR-Cambridge/%s_%d.csv' % (k, i))\n",
    "    dst = './datasets/%s_processed.csv' % k\n",
    "    \n",
    "    df = load_data(srcs)\n",
    "    df = process_data(df)\n",
    "    plot_io_trace(df, True, k)\n",
    "    save_data(df, dst)\n",
    "    print(dst + ' saved')"
   ]
  },
  {
   "cell_type": "code",
   "execution_count": null,
   "metadata": {},
   "outputs": [],
   "source": []
  }
 ],
 "metadata": {
  "kernelspec": {
   "display_name": "Python 3 (ipykernel)",
   "language": "python",
   "name": "python3"
  },
  "language_info": {
   "codemirror_mode": {
    "name": "ipython",
    "version": 3
   },
   "file_extension": ".py",
   "mimetype": "text/x-python",
   "name": "python",
   "nbconvert_exporter": "python",
   "pygments_lexer": "ipython3",
   "version": "3.10.4"
  },
  "vscode": {
   "interpreter": {
    "hash": "0c5dbc9d9a29598acf5aeab441f39de1e6071fa2296f979fa50cf89bed510dd7"
   }
  }
 },
 "nbformat": 4,
 "nbformat_minor": 2
}

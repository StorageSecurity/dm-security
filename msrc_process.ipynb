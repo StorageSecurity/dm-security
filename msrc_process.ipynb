{
 "cells": [
  {
   "cell_type": "code",
   "execution_count": 1,
   "metadata": {
    "pycharm": {
     "is_executing": true
    }
   },
   "outputs": [],
   "source": [
    "import pandas as pd\n",
    "import numpy as np\n",
    "from datetime import datetime,timedelta\n",
    "import matplotlib.pyplot as plt\n",
    "\n",
    "chunk_size_shift = 12 # 4KB\n",
    "\n",
    "def load_data(csv_paths: str):\n",
    "    headers = ['Timestamp','Hostname','DiskNumber','Type','Offset','Size','ResponseTime']\n",
    "    frames = []\n",
    "    for csv_path in csv_paths:\n",
    "        df_part = pd.read_csv(csv_path, header=None, names=headers)\n",
    "        frames.append(df_part)\n",
    "    df = pd.concat(frames)\n",
    "    return df\n",
    "\n",
    "def filetime_to_datetime(ts):\n",
    "    if str(ts) == \"0\":\n",
    "        return \"\"\n",
    "    try:\n",
    "        dt = datetime(1601, 1, 1) + timedelta(microseconds=ts / 10)\n",
    "    except OverflowError:\n",
    "        return ts\n",
    "    return dt.timestamp()\n",
    "\n",
    "def process_data(df):\n",
    "    df = df.loc[:, ['Timestamp', 'Type', 'Offset', 'Size']]\n",
    "    df['Timestamp'] = df['Timestamp'].map(filetime_to_datetime)\n",
    "    df['Type'] = df['Type'].map({'Read': 0, 'Write': 1})\n",
    "    df['Offset'] = df['Offset'].map(lambda x: x >> chunk_size_shift) # bytes to 4KB block\n",
    "    df['Size'] = df['Size'].map(lambda x: x >> 9) # bytes to 512B sector\n",
    "    return df\n",
    "\n",
    "def save_data(df, dst_path: str):\n",
    "    processed = df.loc[:, ['Timestamp', 'Type', 'Offset', 'Size']]\n",
    "    processed.to_csv(dst_path, index=False, header=False)\n",
    "    \n",
    "def plot_io_trace(df, save: bool, name: str):\n",
    "    plt.rcParams['figure.figsize'] = (128.0, 128.0) # 设置figure_size尺寸\n",
    "    plt.scatter(x=df['Timestamp'], y=df['Offset'], c=df['Type'], marker='.', cmap='coolwarm')\n",
    "    if save:\n",
    "        plt.savefig('./datasets/%s_%d_scatter.jpg' % (name, (1 << chunk_size_shift)))#保存图片\n",
    "    else:\n",
    "        plt.show()"
   ]
  },
  {
   "cell_type": "code",
   "execution_count": 2,
   "metadata": {},
   "outputs": [],
   "source": [
    "datasets = {\n",
    "    # 'hm': 2, \n",
    "    # 'mds': 2, \n",
    "    # 'prn': 2, \n",
    "    'proj': 5, \n",
    "    'prxy': 2, \n",
    "    # 'rsrch': 3,\n",
    "    # 'src1': 3, \n",
    "    # 'src2': 3, \n",
    "    # 'stg': 2, \n",
    "    # 'ts': 1, \n",
    "    'usr': 3, \n",
    "    # 'wdev': 4, \n",
    "    # 'web': 4,\n",
    "}"
   ]
  },
  {
   "cell_type": "code",
   "execution_count": 3,
   "metadata": {},
   "outputs": [
    {
     "name": "stdout",
     "output_type": "stream",
     "text": [
      "./datasets/hm_4096.csv saved\n",
      "./datasets/mds_4096.csv saved\n",
      "./datasets/prn_4096.csv saved\n",
      "./datasets/rsrch_4096.csv saved\n",
      "./datasets/src1_4096.csv saved\n",
      "./datasets/src2_4096.csv saved\n",
      "./datasets/stg_4096.csv saved\n"
     ]
    }
   ],
   "source": [
    "for k, v in datasets.items():\n",
    "    srcs = []\n",
    "    for i in range(v):\n",
    "        srcs.append('./datasets/MSR-Cambridge/%s_%d.csv' % (k, i))\n",
    "    dst = './datasets/%s_%d.csv' % (k, (1 << chunk_size_shift))\n",
    "    \n",
    "    df = load_data(srcs)\n",
    "    df = process_data(df)\n",
    "    plot_io_trace(df, True, k)\n",
    "    save_data(df, dst)\n",
    "    print(dst + ' saved')"
   ]
  },
  {
   "cell_type": "code",
   "execution_count": null,
   "metadata": {},
   "outputs": [
    {
     "data": {
      "text/html": [
       "<div>\n",
       "<style scoped>\n",
       "    .dataframe tbody tr th:only-of-type {\n",
       "        vertical-align: middle;\n",
       "    }\n",
       "\n",
       "    .dataframe tbody tr th {\n",
       "        vertical-align: top;\n",
       "    }\n",
       "\n",
       "    .dataframe thead th {\n",
       "        text-align: right;\n",
       "    }\n",
       "</style>\n",
       "<table border=\"1\" class=\"dataframe\">\n",
       "  <thead>\n",
       "    <tr style=\"text-align: right;\">\n",
       "      <th></th>\n",
       "      <th>Timestamp</th>\n",
       "      <th>Type</th>\n",
       "      <th>Offset</th>\n",
       "      <th>Size</th>\n",
       "    </tr>\n",
       "  </thead>\n",
       "  <tbody>\n",
       "    <tr>\n",
       "      <th>0</th>\n",
       "      <td>1.172183e+09</td>\n",
       "      <td>1</td>\n",
       "      <td>771665</td>\n",
       "      <td>8</td>\n",
       "    </tr>\n",
       "    <tr>\n",
       "      <th>1</th>\n",
       "      <td>1.172183e+09</td>\n",
       "      <td>1</td>\n",
       "      <td>4003254</td>\n",
       "      <td>8</td>\n",
       "    </tr>\n",
       "    <tr>\n",
       "      <th>2</th>\n",
       "      <td>1.172183e+09</td>\n",
       "      <td>1</td>\n",
       "      <td>128410</td>\n",
       "      <td>6</td>\n",
       "    </tr>\n",
       "    <tr>\n",
       "      <th>3</th>\n",
       "      <td>1.172183e+09</td>\n",
       "      <td>1</td>\n",
       "      <td>770056</td>\n",
       "      <td>8</td>\n",
       "    </tr>\n",
       "    <tr>\n",
       "      <th>4</th>\n",
       "      <td>1.172183e+09</td>\n",
       "      <td>1</td>\n",
       "      <td>786827</td>\n",
       "      <td>8</td>\n",
       "    </tr>\n",
       "  </tbody>\n",
       "</table>\n",
       "</div>"
      ],
      "text/plain": [
       "      Timestamp  Type   Offset  Size\n",
       "0  1.172183e+09     1   771665     8\n",
       "1  1.172183e+09     1  4003254     8\n",
       "2  1.172183e+09     1   128410     6\n",
       "3  1.172183e+09     1   770056     8\n",
       "4  1.172183e+09     1   786827     8"
      ]
     },
     "execution_count": 4,
     "metadata": {},
     "output_type": "execute_result"
    }
   ],
   "source": [
    "df.head()"
   ]
  }
 ],
 "metadata": {
  "kernelspec": {
   "display_name": "Python 3 (ipykernel)",
   "language": "python",
   "name": "python3"
  },
  "language_info": {
   "codemirror_mode": {
    "name": "ipython",
    "version": 3
   },
   "file_extension": ".py",
   "mimetype": "text/x-python",
   "name": "python",
   "nbconvert_exporter": "python",
   "pygments_lexer": "ipython3",
   "version": "3.10.4"
  },
  "vscode": {
   "interpreter": {
    "hash": "0c5dbc9d9a29598acf5aeab441f39de1e6071fa2296f979fa50cf89bed510dd7"
   }
  }
 },
 "nbformat": 4,
 "nbformat_minor": 2
}

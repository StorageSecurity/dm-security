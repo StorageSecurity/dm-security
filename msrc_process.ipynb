{
 "cells": [
  {
   "cell_type": "code",
   "execution_count": 1,
   "metadata": {},
   "outputs": [
    {
     "name": "stdout",
     "output_type": "stream",
     "text": [
      "                   Timestamp Hostname  DiskNumber   Type        Offset   Size  \\\n",
      "0         128166372003314839     proj           1   Read  727328448000   4096   \n",
      "1         128166372005807825     proj           1  Write  684887502336  20480   \n",
      "2         128166372005809206     proj           1  Write  684887481856  20480   \n",
      "3         128166372005810596     proj           1  Write  816422845952  65536   \n",
      "4         128166372005810927     proj           1  Write  816422911488  65536   \n",
      "...                      ...      ...         ...    ...           ...    ...   \n",
      "23639737  128172419976106105     proj           1   Read  602082741760  65536   \n",
      "23639738  128172419976262230     proj           1   Read  602082872832  65536   \n",
      "23639739  128172419976418348     proj           1   Read  602082938368  65536   \n",
      "23639740  128172419976425493     proj           1   Read  602083003904  13824   \n",
      "23639741  128172419997366338     proj           1  Write  465114476032   4096   \n",
      "\n",
      "          ResponseTime  \n",
      "0                 1424  \n",
      "1                 8439  \n",
      "2                 7058  \n",
      "3                 5668  \n",
      "4                 5337  \n",
      "...                ...  \n",
      "23639737         11804  \n",
      "23639738         11929  \n",
      "23639739         12059  \n",
      "23639740          4915  \n",
      "23639741          1533  \n",
      "\n",
      "[23639742 rows x 7 columns]\n"
     ]
    }
   ],
   "source": [
    "import pandas as pd\n",
    "\n",
    "# csv_path = './datasets/MSR-Cambridge/proj_1.csv'\n",
    "csv_path = './datasets/proj_1.csv'\n",
    "\n",
    "headers = ['Timestamp','Hostname','DiskNumber','Type','Offset','Size','ResponseTime']\n",
    "df = pd.read_csv(csv_path, header=None, names=headers)\n",
    "print(df)"
   ]
  },
  {
   "cell_type": "code",
   "execution_count": 8,
   "metadata": {},
   "outputs": [
    {
     "data": {
      "text/html": [
       "<div>\n",
       "<style scoped>\n",
       "    .dataframe tbody tr th:only-of-type {\n",
       "        vertical-align: middle;\n",
       "    }\n",
       "\n",
       "    .dataframe tbody tr th {\n",
       "        vertical-align: top;\n",
       "    }\n",
       "\n",
       "    .dataframe thead th {\n",
       "        text-align: right;\n",
       "    }\n",
       "</style>\n",
       "<table border=\"1\" class=\"dataframe\">\n",
       "  <thead>\n",
       "    <tr style=\"text-align: right;\">\n",
       "      <th></th>\n",
       "      <th>Timestamp</th>\n",
       "      <th>Type</th>\n",
       "      <th>Offset</th>\n",
       "      <th>Size</th>\n",
       "    </tr>\n",
       "  </thead>\n",
       "  <tbody>\n",
       "    <tr>\n",
       "      <th>0</th>\n",
       "      <td>-1.164446e+10</td>\n",
       "      <td>NaN</td>\n",
       "      <td>2709</td>\n",
       "      <td>4096</td>\n",
       "    </tr>\n",
       "    <tr>\n",
       "      <th>1</th>\n",
       "      <td>-1.164446e+10</td>\n",
       "      <td>NaN</td>\n",
       "      <td>2551</td>\n",
       "      <td>20480</td>\n",
       "    </tr>\n",
       "    <tr>\n",
       "      <th>2</th>\n",
       "      <td>-1.164446e+10</td>\n",
       "      <td>NaN</td>\n",
       "      <td>2551</td>\n",
       "      <td>20480</td>\n",
       "    </tr>\n",
       "    <tr>\n",
       "      <th>3</th>\n",
       "      <td>-1.164446e+10</td>\n",
       "      <td>NaN</td>\n",
       "      <td>3041</td>\n",
       "      <td>65536</td>\n",
       "    </tr>\n",
       "    <tr>\n",
       "      <th>4</th>\n",
       "      <td>-1.164446e+10</td>\n",
       "      <td>NaN</td>\n",
       "      <td>3041</td>\n",
       "      <td>65536</td>\n",
       "    </tr>\n",
       "  </tbody>\n",
       "</table>\n",
       "</div>"
      ],
      "text/plain": [
       "      Timestamp  Type  Offset   Size\n",
       "0 -1.164446e+10   NaN    2709   4096\n",
       "1 -1.164446e+10   NaN    2551  20480\n",
       "2 -1.164446e+10   NaN    2551  20480\n",
       "3 -1.164446e+10   NaN    3041  65536\n",
       "4 -1.164446e+10   NaN    3041  65536"
      ]
     },
     "execution_count": 8,
     "metadata": {},
     "output_type": "execute_result"
    }
   ],
   "source": [
    "from datetime import datetime,timedelta\n",
    "\n",
    "def filetime_to_datetime(ts):\n",
    "    if str(ts) == \"0\":\n",
    "        return \"\"\n",
    "    try:\n",
    "        dt = datetime(1601, 1, 1) + timedelta(microseconds=ts / 10)\n",
    "    except OverflowError:\n",
    "        return ts\n",
    "    return dt.timestamp()\n",
    "\n",
    "df = df.loc[:, ['Timestamp', 'Type', 'Offset', 'Size']]\n",
    "df['Timestamp'] = df['Timestamp'].map(filetime_to_datetime)\n",
    "df['Type'] = df['Type'].map({'Read': 0, 'Write': 1})\n",
    "df['Offset'] = df['Offset'].map(lambda x: x >> 14)\n",
    "df.head()"
   ]
  },
  {
   "cell_type": "code",
   "execution_count": 10,
   "metadata": {},
   "outputs": [],
   "source": [
    "processed = df.loc[:, ['Type', 'Offset', 'Size']]\n",
    "processed.to_csv(\"proj_1_processed.csv\", index=False, header=False)"
   ]
  },
  {
   "cell_type": "code",
   "execution_count": 3,
   "metadata": {},
   "outputs": [],
   "source": [
    "import numpy as np\n",
    "import pandas as pd\n",
    "import matplotlib.pyplot as plt\n",
    "from sklearn.preprocessing import MinMaxScaler\n",
    "from sklearn.metrics import mean_squared_error\n",
    "\n",
    "\n",
    "def plot(prediction, true):\n",
    "    fig = plt.figure()\n",
    "    ax = fig.add_subplot(111)\n",
    "    ax.plot(range(len(prediction)), prediction, color='b', marker='*')\n",
    "    ax.plot(range(len(true)), true, color='r')\n",
    "    plt.legend(['prediction', 'true'])\n",
    "    plt.show()\n",
    "\n",
    "\n",
    "class ELM():\n",
    "    def __init__(self, input_nums, hidden_nums, output_nums):\n",
    "        self.input_nums = input_nums\n",
    "        self.hidden_nums = hidden_nums\n",
    "        self.output_nums = output_nums\n",
    "        self.is_inited = False\n",
    "\n",
    "        # 隐层权重矩阵\n",
    "        self.W = np.array([[np.random.uniform(-1, 1)\n",
    "                          for _ in range(self.hidden_nums)] for i in range(self.input_nums)])\n",
    "        # 隐层偏置项\n",
    "        self.bias = np.array([np.random.uniform(-1, 1)\n",
    "                             for _ in range(self.hidden_nums)])\n",
    "        # 输出层权重\n",
    "        self.beta = np.zeros(shape=[self.hidden_nums, self.output_nums])\n",
    "        # (H^{T}H)^{-1}\n",
    "        self.P = np.zeros(shape=[self.hidden_nums, self.hidden_nums])\n",
    "\n",
    "    def predict(self, x):\n",
    "        return np.dot(self.activation(np.dot(x, self.W) + self.bias), self.beta)\n",
    "\n",
    "    def init_train(self, x, target):\n",
    "        # output matrix\n",
    "        H = self.activation(np.dot(x, self.W) + self.bias)\n",
    "        HT = np.transpose(H)\n",
    "        HTH = np.dot(HT, H)\n",
    "        self.P = np.linalg.inv(HTH)\n",
    "        pHT = np.dot(self.P, HT)\n",
    "        self.beta = np.dot(pHT, target)\n",
    "        self.is_inited = True\n",
    "\n",
    "    def seq_train(self, x, target):\n",
    "        batch_size = x.shape[0]\n",
    "        H = self.activation(np.dot(x, self.W) + self.bias)\n",
    "        HT = np.transpose(H)\n",
    "        I = np.eye(batch_size)\n",
    "        Hp = np.dot(H, self.P)\n",
    "        HpHT = np.dot(Hp, HT)\n",
    "        temp = np.linalg.inv(I + HpHT)\n",
    "        pHT = np.dot(self.P, HT)\n",
    "        self.P -= np.dot(np.dot(pHT, temp), Hp)\n",
    "        pHT = np.dot(self.P, HT)\n",
    "        Hbeta = np.dot(H, self.beta)\n",
    "        self.beta += np.dot(pHT, target - Hbeta)\n",
    "\n",
    "    def activation(self, x):\n",
    "        return 1 / (1 + np.exp(-x))\n"
   ]
  },
  {
   "cell_type": "code",
   "execution_count": 4,
   "metadata": {},
   "outputs": [
    {
     "name": "stdout",
     "output_type": "stream",
     "text": [
      "[0.82570122 0.77752003 0.77752001 ... 0.68351597 0.68351605 0.52802221]\n"
     ]
    }
   ],
   "source": [
    "window_size = 1000\n",
    "scaler = MinMaxScaler()\n",
    "# data = np.reshape(df['Type'].values, newshape=(-1, 1))\n",
    "data = np.reshape(df['Offset'].values, newshape=(-1, 1))\n",
    "# data = np.reshape(df['Size'].values, newshape=(-1, 1))\n",
    "data = np.reshape(scaler.fit_transform(data), newshape=(-1, ))\n",
    "print(data)"
   ]
  },
  {
   "cell_type": "code",
   "execution_count": 5,
   "metadata": {},
   "outputs": [],
   "source": [
    "X = []\n",
    "Y = []\n",
    "for i in range(len(data) - window_size):\n",
    "    X.append(data[i:i + window_size])\n",
    "    Y.append(data[i + window_size])"
   ]
  },
  {
   "cell_type": "code",
   "execution_count": 6,
   "metadata": {},
   "outputs": [],
   "source": [
    "all_X = np.array(X[:5000000]) # num of X is: 23638742\n",
    "all_Y = np.array(Y[:5000000])"
   ]
  },
  {
   "cell_type": "code",
   "execution_count": 7,
   "metadata": {},
   "outputs": [],
   "source": [
    "train_X = all_X[:int(len(all_X) * 0.8), :]\n",
    "train_Y = all_Y[:int(len(all_Y) * 0.8)]\n",
    "\n",
    "test_X = all_X[int(len(all_X) * 0.8):, :]\n",
    "test_Y = all_Y[int(len(all_Y) * 0.8):]"
   ]
  },
  {
   "cell_type": "code",
   "execution_count": 8,
   "metadata": {},
   "outputs": [],
   "source": [
    "oselm = ELM(input_nums=1000, hidden_nums=64, output_nums=1)\n",
    "oselm.init_train(train_X, train_Y)"
   ]
  },
  {
   "cell_type": "code",
   "execution_count": 9,
   "metadata": {},
   "outputs": [],
   "source": [
    "prediction_list = []\n",
    "Y_list = []\n",
    "\n",
    "for X, Y in zip(test_X, test_Y):\n",
    "    prediction = oselm.predict(X)\n",
    "    prediction_list.append(prediction)\n",
    "    Y_list.append(Y)"
   ]
  },
  {
   "cell_type": "code",
   "execution_count": 10,
   "metadata": {},
   "outputs": [
    {
     "data": {
      "image/png": "[encoded data removed]",
      "text/plain": [
       "<Figure size 640x480 with 1 Axes>"
      ]
     },
     "metadata": {},
     "output_type": "display_data"
    },
    {
     "name": "stdout",
     "output_type": "stream",
     "text": [
      "RMSE of ELM 6682552.756175235\n"
     ]
    }
   ],
   "source": [
    "prediction_arr = np.reshape(np.array(prediction_list), newshape=(-1, 1))\n",
    "true_arr = np.reshape(np.array(Y_list), newshape=(-1, 1))\n",
    "prediction_scaled_arr = scaler.inverse_transform(prediction_arr)\n",
    "true_scaled_arr = scaler.inverse_transform(true_arr)\n",
    "plot(prediction_scaled_arr, true_scaled_arr)\n",
    "print('RMSE of ELM', np.sqrt(mean_squared_error(\n",
    "    prediction_scaled_arr, true_scaled_arr)))"
   ]
  },
  {
   "cell_type": "code",
   "execution_count": 11,
   "metadata": {},
   "outputs": [],
   "source": [
    "prediction_list = []\n",
    "Y_list = []\n",
    "\n",
    "for X, Y in zip(test_X, test_Y):\n",
    "    prediction = oselm.predict(X)\n",
    "    prediction_list.append(prediction)\n",
    "    Y_list.append(Y)\n",
    "    oselm.seq_train(X[np.newaxis, :], Y)\n"
   ]
  },
  {
   "cell_type": "code",
   "execution_count": 12,
   "metadata": {},
   "outputs": [
    {
     "data": {
      "image/png": "[encoded data removed]",
      "text/plain": [
       "<Figure size 640x480 with 1 Axes>"
      ]
     },
     "metadata": {},
     "output_type": "display_data"
    },
    {
     "name": "stdout",
     "output_type": "stream",
     "text": [
      "RMSE of OS-ELM 6629258.142499028\n"
     ]
    }
   ],
   "source": [
    "prediction_arr = np.reshape(np.array(prediction_list), newshape=(-1, 1))\n",
    "true_arr = np.reshape(np.array(Y_list), newshape=(-1, 1))\n",
    "prediction_scaled_arr = scaler.inverse_transform(prediction_arr)\n",
    "true_scaled_arr = scaler.inverse_transform(true_arr)\n",
    "plot(prediction_scaled_arr, true_scaled_arr)\n",
    "print('RMSE of OS-ELM', np.sqrt(mean_squared_error(\n",
    "    prediction_scaled_arr, true_scaled_arr)))"
   ]
  }
 ],
 "metadata": {
  "kernelspec": {
   "display_name": "Python 3.9.12 ('python3')",
   "language": "python",
   "name": "python3"
  },
  "language_info": {
   "codemirror_mode": {
    "name": "ipython",
    "version": 3
   },
   "file_extension": ".py",
   "mimetype": "text/x-python",
   "name": "python",
   "nbconvert_exporter": "python",
   "pygments_lexer": "ipython3",
   "version": "3.9.12"
  },
  "orig_nbformat": 4,
  "vscode": {
   "interpreter": {
    "hash": "8ebfef6616af490af4cbcd7f531778647849753aec198e83cff29cb1ec36252e"
   }
  }
 },
 "nbformat": 4,
 "nbformat_minor": 2
}

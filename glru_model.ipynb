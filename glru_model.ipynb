{
 "cells": [
  {
   "cell_type": "code",
   "execution_count": 29,
   "id": "36446ee3",
   "metadata": {},
   "outputs": [],
   "source": [
    "from collections import OrderedDict\n",
    "from enum import Enum\n",
    "from io_trace_set import *\n",
    "from multiprocessing.dummy import Pool as ThreadPool\n",
    "import random\n",
    "import pandas as pd\n",
    "\n",
    "\n",
    "class OpType(Enum):\n",
    "    READ = 0\n",
    "    WRITE = 1\n",
    "\n",
    "\n",
    "class ReadWriteType(Enum):\n",
    "    READ_HOT_WRITE_HOT = 0\n",
    "    READ_HOT_WRITE_COLD = 1\n",
    "    READ_COLD_WRITE_HOT = 2\n",
    "    READ_COLD_WRITE_COLD = 3\n",
    "\n",
    "\n",
    "class Freq:\n",
    "\n",
    "    def __init__(self, read: int, write: int):\n",
    "        self.read = read\n",
    "        self.write = write\n",
    "\n",
    "\n",
    "class LeastRecentlyUsed(OrderedDict):\n",
    "\n",
    "    def __init__(self, capacity):\n",
    "        self.capacity = capacity\n",
    "        self.cache = OrderedDict()\n",
    "\n",
    "    def get(self, key) -> Freq:\n",
    "        if key in self.cache:\n",
    "            value = self.cache.get(key)\n",
    "        else:\n",
    "            value = Freq(0, 0)\n",
    "        return value\n",
    "\n",
    "    def set(self, key, type: OpType, size: int) -> None:\n",
    "        if key in self.cache:\n",
    "            value = self.cache.pop(key)\n",
    "            if type == OpType.READ:\n",
    "                value.read += size\n",
    "            else:\n",
    "                value.write += size\n",
    "            self.cache[key] = value\n",
    "        else:\n",
    "            read = size if OpType == OpType.READ else 0\n",
    "            write = size if OpType == OpType.WRITE else 0\n",
    "            value = Freq(read, write)\n",
    "            if len(self.cache) == self.capacity:\n",
    "                zero_freq_found = False\n",
    "                for k, v in self.cache.items():\n",
    "                    if v.read == 0 and v.write == 0:\n",
    "                        zero_freq_found = True\n",
    "                        self.cache.pop(k)\n",
    "                        self.cache[key] = value\n",
    "                        break\n",
    "                if not zero_freq_found and random.randint(0, 1) == 0:\n",
    "                    # probability of 0.5 to evict the first item\n",
    "                    # if there is no zero freq\n",
    "                    self.cache.popitem(last=False)  # pop出第一个item\n",
    "                    self.cache[key] = value\n",
    "            else:\n",
    "                self.cache[key] = value\n",
    "\n",
    "    def decay(self) -> None:\n",
    "        for _, v in self.cache.items():\n",
    "            if v.read == 1:\n",
    "                v.read = 0\n",
    "            else:\n",
    "                v.read /= 2\n",
    "            if v.write == 1:\n",
    "                v.write = 0\n",
    "            else:\n",
    "                v.write /= 2\n",
    "\n",
    "\n",
    "class GroupLeastRecentyUsed:\n",
    "\n",
    "    def __init__(self, k, capacity, period):\n",
    "        self.k = k\n",
    "        self.lru_group = [LeastRecentlyUsed(capacity) for _ in range(k)]\n",
    "        self.period = period  # 每个周期的请求次数，其中每个周期结束时对lru_group执行一次decay\n",
    "        self.count = 0  # 记录当前周期是第几次请求\n",
    "        self.ratio = 10  # 读写频率比例\n",
    "        self.penalty_ratio = 10  # 预测出错时的在线训练惩罚比率\n",
    "        self.bonus_ratio = 1  # 预测正确时的在线训练奖励比率\n",
    "\n",
    "    def fit(self, trace: IOTrace):\n",
    "        LPN = trace.offset\n",
    "        idx = LPN % self.k\n",
    "        self.lru_group[idx].set(LPN, trace.type, trace.size)\n",
    "\n",
    "        self.count = (self.count + 1) % self.period\n",
    "        if self.count == 0:\n",
    "            pool = ThreadPool()  # 用于并行执行decay操作的线程池\n",
    "            pool.map(lambda x: x.decay(), self.lru_group)\n",
    "            pool.close()\n",
    "            pool.join()\n",
    "\n",
    "    def predict(self, trace: IOTrace) -> ReadWriteType:\n",
    "        LPN = trace.offset\n",
    "        idx = LPN % self.k\n",
    "        lru = self.lru_group[idx]\n",
    "\n",
    "        freq = lru.get(LPN)\n",
    "        read, write = freq.read, freq.write\n",
    "\n",
    "        if read == 0 and write == 0:\n",
    "            return ReadWriteType.READ_COLD_WRITE_COLD\n",
    "        if (read + 1) / (write + 1) >= self.ratio:\n",
    "            return ReadWriteType.READ_HOT_WRITE_COLD\n",
    "        elif (write + 1) / (read + 1) >= self.ratio:\n",
    "            return ReadWriteType.READ_COLD_WRITE_HOT\n",
    "        else:\n",
    "            return ReadWriteType.READ_HOT_WRITE_HOT\n",
    "\n",
    "\n",
    "class GroupLeastRecentlyUsedModel:\n",
    "\n",
    "    def __init__(self):\n",
    "        self.glru = GroupLeastRecentyUsed(k=100000, capacity=10000, period=10000000)\n",
    "        self.hit_cost = 18\n",
    "        self.miss_cost = 103\n",
    "        self.balance_cost = 22\n",
    "\n",
    "    def trace_one(self, trace: IOTrace) -> list:\n",
    "        rwType = self.glru.predict(trace)\n",
    "        if rwType == ReadWriteType.READ_HOT_WRITE_HOT:\n",
    "            cost = self.balance_cost\n",
    "        elif rwType == ReadWriteType.READ_COLD_WRITE_COLD:\n",
    "            # TODO: 为什么这里的cost是21？\n",
    "            cost = self.balance_cost\n",
    "        else:\n",
    "            if rwType == ReadWriteType.READ_HOT_WRITE_COLD:\n",
    "                cost = self.hit_cost if trace.type == 0 else self.miss_cost\n",
    "            else:\n",
    "                cost = self.hit_cost if trace.type == 1 else self.miss_cost\n",
    "\n",
    "        # false prediction, add penalty\n",
    "        if cost == self.miss_cost:\n",
    "            trace.size *= self.glru.penalty_ratio\n",
    "        elif cost == self.hit_cost:\n",
    "            trace.size *= self.glru.bonus_ratio\n",
    "        # train online\n",
    "        self.glru.fit(trace)\n",
    "\n",
    "        return cost\n"
   ]
  },
  {
   "cell_type": "markdown",
   "id": "ebc77634",
   "metadata": {},
   "source": [
    "在GLRU基础上的优化点：\n",
    "1. 增加惩罚系数，即当预测出错的时候，增加在线训练时该样本的权重，用以加速新的读写模式的识别\n",
    "2. 记录每个Chunk的读写模式切换的周期和频率等指标，对于频繁切换的Chunk，应该让错误样本的在线训练的惩罚系数值更大，以识别出周期性的模式切换规律\n",
    "3. 根据每个时刻工作集的大小动态调整GLRU列表的大小？（待进一步研究）\n",
    "4. 。。。\n"
   ]
  },
  {
   "cell_type": "code",
   "execution_count": 30,
   "id": "b2d6164b",
   "metadata": {},
   "outputs": [],
   "source": [
    "datasets = [\n",
    "    # 'hm', 'mds', 'prn', \n",
    "    # 'proj', 'prxy', \n",
    "    'rsrch',\n",
    "    # 'src1', 'src2',\n",
    "    # 'stg', 'ts', \n",
    "    # 'usr', 'wdev', \n",
    "    # 'web',\n",
    "]\n",
    "dataset_to_csv_file = lambda d: 'datasets/%s_processed.csv' % d"
   ]
  },
  {
   "cell_type": "code",
   "execution_count": 31,
   "id": "b8304f59",
   "metadata": {},
   "outputs": [
    {
     "name": "stdout",
     "output_type": "stream",
     "text": [
      "trace num: 1655022\n"
     ]
    },
    {
     "data": {
      "application/vnd.jupyter.widget-view+json": {
       "model_id": "a544dec5862d493ca34eeb9a6fa7dc38",
       "version_major": 2,
       "version_minor": 0
      },
      "text/plain": [
       "Output()"
      ]
     },
     "metadata": {},
     "output_type": "display_data"
    },
    {
     "data": {
      "text/html": [
       "<pre style=\"white-space:pre;overflow-x:auto;line-height:normal;font-family:Menlo,'DejaVu Sans Mono',consolas,'Courier New',monospace\"></pre>\n"
      ],
      "text/plain": []
     },
     "metadata": {},
     "output_type": "display_data"
    },
    {
     "data": {
      "text/html": [
       "<pre style=\"white-space:pre;overflow-x:auto;line-height:normal;font-family:Menlo,'DejaVu Sans Mono',consolas,'Courier New',monospace\">\n",
       "</pre>\n"
      ],
      "text/plain": [
       "\n"
      ]
     },
     "metadata": {},
     "output_type": "display_data"
    },
    {
     "name": "stdout",
     "output_type": "stream",
     "text": [
      "total cost: 150554644\n",
      "actual cost: 43162205\n",
      "saved ratio: 0.713312\n",
      "trace num: 1655022\n"
     ]
    },
    {
     "data": {
      "application/vnd.jupyter.widget-view+json": {
       "model_id": "ed7a618cf7f94d5c8ec571e960c1ce68",
       "version_major": 2,
       "version_minor": 0
      },
      "text/plain": [
       "Output()"
      ]
     },
     "metadata": {},
     "output_type": "display_data"
    },
    {
     "data": {
      "text/html": [
       "<pre style=\"white-space:pre;overflow-x:auto;line-height:normal;font-family:Menlo,'DejaVu Sans Mono',consolas,'Courier New',monospace\"></pre>\n"
      ],
      "text/plain": []
     },
     "metadata": {},
     "output_type": "display_data"
    },
    {
     "data": {
      "text/html": [
       "<pre style=\"white-space:pre;overflow-x:auto;line-height:normal;font-family:Menlo,'DejaVu Sans Mono',consolas,'Courier New',monospace\">\n",
       "</pre>\n"
      ],
      "text/plain": [
       "\n"
      ]
     },
     "metadata": {},
     "output_type": "display_data"
    },
    {
     "name": "stdout",
     "output_type": "stream",
     "text": [
      "total cost: 54668084\n",
      "actual cost: 43162205\n",
      "saved ratio: 0.210468\n",
      "trace num: 1655022\n"
     ]
    },
    {
     "data": {
      "application/vnd.jupyter.widget-view+json": {
       "model_id": "d2a94903870342979bc83c844a3ce980",
       "version_major": 2,
       "version_minor": 0
      },
      "text/plain": [
       "Output()"
      ]
     },
     "metadata": {},
     "output_type": "display_data"
    },
    {
     "data": {
      "text/html": [
       "<pre style=\"white-space:pre;overflow-x:auto;line-height:normal;font-family:Menlo,'DejaVu Sans Mono',consolas,'Courier New',monospace\"></pre>\n"
      ],
      "text/plain": []
     },
     "metadata": {},
     "output_type": "display_data"
    },
    {
     "data": {
      "text/html": [
       "<pre style=\"white-space:pre;overflow-x:auto;line-height:normal;font-family:Menlo,'DejaVu Sans Mono',consolas,'Courier New',monospace\">\n",
       "</pre>\n"
      ],
      "text/plain": [
       "\n"
      ]
     },
     "metadata": {},
     "output_type": "display_data"
    },
    {
     "name": "stdout",
     "output_type": "stream",
     "text": [
      "total cost: 34755462\n",
      "actual cost: 43162205\n",
      "saved ratio: -0.241883\n"
     ]
    }
   ],
   "source": [
    "import pandas as pd\n",
    "\n",
    "headers = ['dataset', 'original_cost_opt', 'original_cost', 'actual_cost', 'save_ratio']\n",
    "results = []\n",
    "\n",
    "for dataset in datasets:\n",
    "    csv_file = dataset_to_csv_file(dataset)\n",
    "\n",
    "    trace_set = IOTraceSet(csv_file, cost_opt_for_read)\n",
    "    glru_model = GroupLeastRecentlyUsedModel()\n",
    "    trace_set.replay(glru_model.trace_one)\n",
    "    trace_set.show_result()\n",
    "    result = [dataset, 'read']\n",
    "    result.extend(trace_set.get_result())\n",
    "    results.append(result)\n",
    "\n",
    "    trace_set = IOTraceSet(csv_file, cost_opt_for_write)\n",
    "    glru_model = GroupLeastRecentlyUsedModel()\n",
    "    trace_set.replay(glru_model.trace_one)\n",
    "    trace_set.show_result()\n",
    "    result = [dataset, 'write']\n",
    "    result.extend(trace_set.get_result())\n",
    "    results.append(result)\n",
    "\n",
    "    trace_set = IOTraceSet(csv_file, cost_balanced)\n",
    "    glru_model = GroupLeastRecentlyUsedModel()\n",
    "    trace_set.replay(glru_model.trace_one)\n",
    "    trace_set.show_result()\n",
    "    result = [dataset, 'balanced']\n",
    "    result.extend(trace_set.get_result())\n",
    "    results.append(result)"
   ]
  },
  {
   "cell_type": "code",
   "execution_count": null,
   "id": "c0eb1e8a",
   "metadata": {},
   "outputs": [],
   "source": [
    "# df = pd.DataFrame(columns=headers,data=list)\n",
    "# df.to_csv('results/glru.csv', index=False)"
   ]
  },
  {
   "cell_type": "code",
   "execution_count": null,
   "id": "0dc1b1cf",
   "metadata": {},
   "outputs": [],
   "source": []
  }
 ],
 "metadata": {
  "kernelspec": {
   "display_name": "Python 3.10.4 ('jupyter')",
   "language": "python",
   "name": "python3"
  },
  "language_info": {
   "codemirror_mode": {
    "name": "ipython",
    "version": 3
   },
   "file_extension": ".py",
   "mimetype": "text/x-python",
   "name": "python",
   "nbconvert_exporter": "python",
   "pygments_lexer": "ipython3",
   "version": "3.10.4"
  },
  "vscode": {
   "interpreter": {
    "hash": "0c5dbc9d9a29598acf5aeab441f39de1e6071fa2296f979fa50cf89bed510dd7"
   }
  }
 },
 "nbformat": 4,
 "nbformat_minor": 5
}
